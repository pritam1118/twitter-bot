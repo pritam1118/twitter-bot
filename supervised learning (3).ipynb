{
 "cells": [
  {
   "cell_type": "code",
   "execution_count": 17,
   "metadata": {},
   "outputs": [],
   "source": [
    "# Import Libraries\n",
    "import numpy as np\n",
    "import pandas as pd\n",
    "import matplotlib.pyplot as plt\n",
    "import seaborn as sns\n",
    "import sys\n",
    "import warnings\n",
    "if not sys.warnoptions:\n",
    "    warnings.simplefilter(\"ignore\")"
   ]
  },
  {
   "cell_type": "code",
   "execution_count": 18,
   "metadata": {},
   "outputs": [],
   "source": [
    "training_data = pd.read_csv(\"training_data.csv\")"
   ]
  },
  {
   "cell_type": "code",
   "execution_count": 19,
   "metadata": {},
   "outputs": [],
   "source": [
    "training_data.drop(['id','id_str', 'screen_name', \n",
    "                    'location', 'description', \n",
    "                    'url', 'created_at', \n",
    "                    'lang', 'status',\n",
    "                    'default_profile',\n",
    "                    'default_profile_image',\n",
    "                    'has_extended_profile','name'],axis=1,inplace=True)"
   ]
  },
  {
   "cell_type": "code",
   "execution_count": 20,
   "metadata": {},
   "outputs": [
    {
     "data": {
      "text/html": [
       "<div>\n",
       "<style scoped>\n",
       "    .dataframe tbody tr th:only-of-type {\n",
       "        vertical-align: middle;\n",
       "    }\n",
       "\n",
       "    .dataframe tbody tr th {\n",
       "        vertical-align: top;\n",
       "    }\n",
       "\n",
       "    .dataframe thead th {\n",
       "        text-align: right;\n",
       "    }\n",
       "</style>\n",
       "<table border=\"1\" class=\"dataframe\">\n",
       "  <thead>\n",
       "    <tr style=\"text-align: right;\">\n",
       "      <th></th>\n",
       "      <th>followers_count</th>\n",
       "      <th>friends_count</th>\n",
       "      <th>listedcount</th>\n",
       "      <th>favourites_count</th>\n",
       "      <th>verified</th>\n",
       "      <th>statuses_count</th>\n",
       "      <th>bot</th>\n",
       "    </tr>\n",
       "  </thead>\n",
       "  <tbody>\n",
       "    <tr>\n",
       "      <th>0</th>\n",
       "      <td>2925</td>\n",
       "      <td>3</td>\n",
       "      <td>139</td>\n",
       "      <td>0</td>\n",
       "      <td>False</td>\n",
       "      <td>708</td>\n",
       "      <td>1</td>\n",
       "    </tr>\n",
       "    <tr>\n",
       "      <th>1</th>\n",
       "      <td>9</td>\n",
       "      <td>0</td>\n",
       "      <td>5</td>\n",
       "      <td>0</td>\n",
       "      <td>False</td>\n",
       "      <td>6</td>\n",
       "      <td>1</td>\n",
       "    </tr>\n",
       "    <tr>\n",
       "      <th>2</th>\n",
       "      <td>132</td>\n",
       "      <td>46</td>\n",
       "      <td>24</td>\n",
       "      <td>740</td>\n",
       "      <td>False</td>\n",
       "      <td>7346</td>\n",
       "      <td>1</td>\n",
       "    </tr>\n",
       "    <tr>\n",
       "      <th>3</th>\n",
       "      <td>54</td>\n",
       "      <td>1351</td>\n",
       "      <td>0</td>\n",
       "      <td>2</td>\n",
       "      <td>False</td>\n",
       "      <td>6</td>\n",
       "      <td>1</td>\n",
       "    </tr>\n",
       "    <tr>\n",
       "      <th>4</th>\n",
       "      <td>1300380</td>\n",
       "      <td>24248</td>\n",
       "      <td>7089</td>\n",
       "      <td>4184</td>\n",
       "      <td>True</td>\n",
       "      <td>8536</td>\n",
       "      <td>0</td>\n",
       "    </tr>\n",
       "  </tbody>\n",
       "</table>\n",
       "</div>"
      ],
      "text/plain": [
       "   followers_count  friends_count  listedcount  favourites_count  verified  \\\n",
       "0             2925              3          139                 0     False   \n",
       "1                9              0            5                 0     False   \n",
       "2              132             46           24               740     False   \n",
       "3               54           1351            0                 2     False   \n",
       "4          1300380          24248         7089              4184      True   \n",
       "\n",
       "   statuses_count  bot  \n",
       "0             708    1  \n",
       "1               6    1  \n",
       "2            7346    1  \n",
       "3               6    1  \n",
       "4            8536    0  "
      ]
     },
     "execution_count": 20,
     "metadata": {},
     "output_type": "execute_result"
    }
   ],
   "source": [
    "training_data.head()"
   ]
  },
  {
   "cell_type": "code",
   "execution_count": null,
   "metadata": {},
   "outputs": [],
   "source": []
  },
  {
   "cell_type": "code",
   "execution_count": 21,
   "metadata": {},
   "outputs": [],
   "source": [
    "#To check Performances\n",
    "from sklearn.metrics import accuracy_score\n",
    "from sklearn.metrics import precision_score\n",
    "from sklearn.metrics import recall_score\n",
    "from sklearn.metrics import f1_score"
   ]
  },
  {
   "cell_type": "code",
   "execution_count": 22,
   "metadata": {},
   "outputs": [],
   "source": [
    "#calculate accuracy score, precision, recall, f1 score\n",
    "\n",
    "def Performance(actual_value , predicted_value):\n",
    "    accuracy = accuracy_score(actual_value , predicted_value) * 100\n",
    "    precision = precision_score(actual_value , predicted_value) * 100\n",
    "    recall = recall_score(actual_value , predicted_value) * 100\n",
    "    f1 = f1_score(actual_value , predicted_value, average='weighted')\n",
    "    print('Accuracy is {:.4f}%\\n Precision is {:.4f}%\\n Recall is {:.4f}%\\nF1 Score is {:.4f}\\n'.format(accuracy, precision, recall, f1))"
   ]
  },
  {
   "cell_type": "code",
   "execution_count": null,
   "metadata": {},
   "outputs": [],
   "source": []
  },
  {
   "cell_type": "code",
   "execution_count": 13,
   "metadata": {},
   "outputs": [],
   "source": [
    "#Extracted features\n",
    "\n",
    "# features = ['followers_count', 'friends_count', 'listedcount', 'favourites_count', 'verified', 'statuses_count','bot']"
   ]
  },
  {
   "cell_type": "code",
   "execution_count": 23,
   "metadata": {},
   "outputs": [],
   "source": [
    "X = training_data.iloc[:, :-1].values\n",
    "y = training_data.iloc[:, 6].values"
   ]
  },
  {
   "cell_type": "code",
   "execution_count": 25,
   "metadata": {},
   "outputs": [
    {
     "name": "stdout",
     "output_type": "stream",
     "text": [
      "Accuracy is 89.2473%\n",
      " Precision is 100.0000%\n",
      " Recall is 89.2473%\n",
      "F1 Score is 0.9432\n",
      "\n",
      "Accuracy is 85.9413%\n",
      " Precision is 0.0000%\n",
      " Recall is 0.0000%\n",
      "F1 Score is 0.9244\n",
      "\n"
     ]
    }
   ],
   "source": [
    "#KNN\n",
    "\n",
    "from sklearn.neighbors import KNeighborsClassifier as knn\n",
    "\n",
    "classifier=knn(n_neighbors=5)\n",
    "classifier.fit(X,y)\n",
    "\n",
    "bots = training_data[training_data.bot==1]\n",
    "Nbots = training_data[training_data.bot==0]\n",
    " \n",
    "B = bots.iloc[:,:-1]\n",
    "B_y = bots.iloc[:,6]\n",
    "B_pred = classifier.predict(B)\n",
    "\n",
    "#Confusionmatrix\n",
    "from sklearn.metrics import confusion_matrix\n",
    "cm=confusion_matrix(B_y,B_pred)\n",
    "Performance(B_y,B_pred)\n",
    "\n",
    "NB = Nbots.iloc[:,:-1]\n",
    "NB_y = Nbots.iloc[:,6]\n",
    "NB_pred = classifier.predict(NB)\n",
    "\n",
    "#Confusionmatrix\n",
    "from sklearn.metrics import confusion_matrix\n",
    "cm=confusion_matrix(NB_y,NB_pred)\n",
    "Performance(NB_y,NB_pred)"
   ]
  },
  {
   "cell_type": "code",
   "execution_count": null,
   "metadata": {},
   "outputs": [],
   "source": []
  },
  {
   "cell_type": "code",
   "execution_count": 10,
   "metadata": {},
   "outputs": [
    {
     "name": "stdout",
     "output_type": "stream",
     "text": [
      "Accuracy is 30.3763%\n",
      " Precision is 100.0000%\n",
      " Recall is 30.3763%\n",
      "F1 Score is 0.4660\n",
      "\n",
      "Accuracy is 92.4205%\n",
      " Precision is 0.0000%\n",
      " Recall is 0.0000%\n",
      "F1 Score is 0.9606\n",
      "\n"
     ]
    }
   ],
   "source": [
    "#SVM\n",
    "\n",
    "from sklearn.svm import SVC\n",
    "classifier=SVC(kernel='rbf', random_state=0)\n",
    "classifier.fit(X,y)\n",
    "\n",
    "\n",
    "bots = training_data[training_data.bot==1]\n",
    "Nbots = training_data[training_data.bot==0]\n",
    " \n",
    "B = bots.iloc[:,:-1]\n",
    "B_y = bots.iloc[:,7]\n",
    "B_pred = classifier.predict(B)\n",
    "\n",
    "#Confusionmatrix\n",
    "from sklearn.metrics import confusion_matrix\n",
    "cm=confusion_matrix(B_y,B_pred)\n",
    "Performance(B_y,B_pred)\n",
    "\n",
    "NB = Nbots.iloc[:,:-1]\n",
    "NB_y = Nbots.iloc[:,7]\n",
    "NB_pred = classifier.predict(NB)\n",
    "\n",
    "#Confusionmatrix\n",
    "from sklearn.metrics import confusion_matrix\n",
    "cm=confusion_matrix(NB_y,NB_pred)\n",
    "Performance(NB_y,NB_pred)"
   ]
  },
  {
   "cell_type": "code",
   "execution_count": null,
   "metadata": {},
   "outputs": [],
   "source": []
  },
  {
   "cell_type": "code",
   "execution_count": 11,
   "metadata": {},
   "outputs": [
    {
     "name": "stdout",
     "output_type": "stream",
     "text": [
      "Accuracy is 98.2527%\n",
      " Precision is 100.0000%\n",
      " Recall is 98.2527%\n",
      "F1 Score is 0.9912\n",
      "\n",
      "Accuracy is 99.7555%\n",
      " Precision is 0.0000%\n",
      " Recall is 0.0000%\n",
      "F1 Score is 0.9988\n",
      "\n"
     ]
    }
   ],
   "source": [
    "#Random Forest\n",
    "\n",
    "from sklearn.ensemble import RandomForestClassifier as rf\n",
    "classifier= rf(n_estimators=10,criterion='entropy',random_state=0)\n",
    "classifier.fit(X,y)\n",
    "\n",
    "\n",
    "bots = training_data[training_data.bot==1]\n",
    "Nbots = training_data[training_data.bot==0]\n",
    "\n",
    "B = bots.iloc[:,:-1]\n",
    "B_y = bots.iloc[:,7]\n",
    "B_pred = classifier.predict(B)\n",
    "\n",
    "#Confusionmatrix\n",
    "from sklearn.metrics import confusion_matrix\n",
    "cm=confusion_matrix(B_y,B_pred)\n",
    "Performance(B_y,B_pred)\n",
    "\n",
    "NB = Nbots.iloc[:,:-1]\n",
    "NB_y = Nbots.iloc[:,7]\n",
    "NB_pred = classifier.predict(NB)\n",
    " \n",
    "#Confusionmatrix\n",
    "from sklearn.metrics import confusion_matrix\n",
    "cm=confusion_matrix(NB_y,NB_pred)\n",
    "Performance(NB_y,NB_pred)"
   ]
  },
  {
   "cell_type": "code",
   "execution_count": null,
   "metadata": {},
   "outputs": [],
   "source": []
  },
  {
   "cell_type": "code",
   "execution_count": 12,
   "metadata": {},
   "outputs": [
    {
     "name": "stdout",
     "output_type": "stream",
     "text": [
      "Accuracy is 30.3763%\n",
      " Precision is 100.0000%\n",
      " Recall is 30.3763%\n",
      "F1 Score is 0.4660\n",
      "\n",
      "Accuracy is 92.4205%\n",
      " Precision is 0.0000%\n",
      " Recall is 0.0000%\n",
      "F1 Score is 0.9606\n",
      "\n"
     ]
    }
   ],
   "source": [
    "#Naive Bayes\n",
    "\n",
    "from sklearn.naive_bayes import GaussianNB as GNB\n",
    "classifier=GNB()\n",
    "classifier.fit(X,y)\n",
    "\n",
    "\n",
    "bots = training_data[training_data.bot==1]\n",
    "Nbots = training_data[training_data.bot==0]\n",
    " \n",
    "B = bots.iloc[:,:-1]\n",
    "B_y = bots.iloc[:,7]\n",
    "B_pred = classifier.predict(B)\n",
    "\n",
    "#Confusionmatrix\n",
    "from sklearn.metrics import confusion_matrix\n",
    "cm=confusion_matrix(B_y,B_pred)\n",
    "Performance(B_y,B_pred)\n",
    "\n",
    "NB = Nbots.iloc[:,:-1]\n",
    "NB_y = Nbots.iloc[:,7]\n",
    "NB_pred = classifier.predict(NB)\n",
    "\n",
    "#Confusionmatrix\n",
    "from sklearn.metrics import confusion_matrix\n",
    "cm=confusion_matrix(NB_y,NB_pred)\n",
    "Performance(NB_y,NB_pred)"
   ]
  },
  {
   "cell_type": "code",
   "execution_count": null,
   "metadata": {},
   "outputs": [],
   "source": []
  },
  {
   "cell_type": "code",
   "execution_count": 26,
   "metadata": {},
   "outputs": [
    {
     "name": "stdout",
     "output_type": "stream",
     "text": [
      "Accuracy is 100.0000%\n",
      " Precision is 100.0000%\n",
      " Recall is 100.0000%\n",
      "F1 Score is 1.0000\n",
      "\n",
      "Accuracy is 100.0000%\n",
      " Precision is 0.0000%\n",
      " Recall is 0.0000%\n",
      "F1 Score is 1.0000\n",
      "\n"
     ]
    }
   ],
   "source": [
    "#Decision Tree\n",
    "\n",
    "from sklearn.tree import DecisionTreeClassifier as DTC\n",
    "import pickle\n",
    "classifier= DTC(criterion=\"entropy\")\n",
    "classifier.fit(X,y)\n",
    "filename = 'dtc_model.sav'\n",
    "pickle.dump(classifier, open(filename, 'wb'))\n",
    "bots = training_data[training_data.bot==1]\n",
    "Nbots = training_data[training_data.bot==0]\n",
    "training_data.to_html('bots.html')\n",
    " \n",
    "B = bots.iloc[:,:-1]\n",
    "B_y = bots.iloc[:,6]\n",
    "B_pred = classifier.predict(B)\n",
    "\n",
    "#Confusionmatrix\n",
    "from sklearn.metrics import confusion_matrix\n",
    "cm=confusion_matrix(B_y,B_pred)\n",
    "Performance(B_y,B_pred)\n",
    "\n",
    "NB = Nbots.iloc[:,:-1]\n",
    "NB_y = Nbots.iloc[:,6]\n",
    "NB_pred = classifier.predict(NB)\n",
    "\n",
    "#Confusionmatrix\n",
    "from sklearn.metrics import confusion_matrix\n",
    "cm=confusion_matrix(NB_y,NB_pred)\n",
    "Performance(NB_y,NB_pred)"
   ]
  },
  {
   "cell_type": "code",
   "execution_count": null,
   "metadata": {},
   "outputs": [],
   "source": []
  }
 ],
 "metadata": {
  "kernelspec": {
   "display_name": "Python 3.8.0 64-bit",
   "language": "python",
   "name": "python3"
  },
  "language_info": {
   "codemirror_mode": {
    "name": "ipython",
    "version": 3
   },
   "file_extension": ".py",
   "mimetype": "text/x-python",
   "name": "python",
   "nbconvert_exporter": "python",
   "pygments_lexer": "ipython3",
   "version": "3.8.0"
  },
  "vscode": {
   "interpreter": {
    "hash": "4215c82917f95f96d345dfeef07c54a01e154dfece3d2c4d2795aa57f71bb878"
   }
  }
 },
 "nbformat": 4,
 "nbformat_minor": 4
}
